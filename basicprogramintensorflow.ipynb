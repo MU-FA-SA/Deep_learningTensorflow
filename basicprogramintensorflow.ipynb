{
 "cells": [
  {
   "cell_type": "code",
   "execution_count": 39,
   "metadata": {},
   "outputs": [],
   "source": [
    "import tensorflow as tf\n",
    "tf.compat.v1.disable_eager_execution()"
   ]
  },
  {
   "cell_type": "code",
   "execution_count": 55,
   "metadata": {},
   "outputs": [
    {
     "name": "stdout",
     "output_type": "stream",
     "text": [
      "b'hello world'\n"
     ]
    }
   ],
   "source": [
    "out = tf.constant(\"hello world\")\n",
    "with tf.compat.v1.Session() as sess:\n",
    "    outt = sess.run(out)\n",
    "    print(outt)\n",
    "    "
   ]
  },
  {
   "cell_type": "code",
   "execution_count": 53,
   "metadata": {},
   "outputs": [
    {
     "name": "stdout",
     "output_type": "stream",
     "text": [
      "23.66\n"
     ]
    }
   ],
   "source": [
    "import tensorflow as tf\n",
    "tf.compat.v1.disable_eager_execution\n",
    "w = tf.Variable([.3], tf.float32)\n",
    "b = tf.Variable([-.3], tf.float32)\n",
    "x = tf.compat.v1.placeholder(tf.float32)\n",
    "y = tf.compat.v1.placeholder(tf.float32)\n",
    "\n",
    "# formula for linear model\n",
    "linear_model = w*x+b\n",
    "\n",
    "\n",
    "\n",
    "sq_de = tf.square(linear_model-y)\n",
    "loss = tf.reduce_sum(sq_de)\n",
    "init = tf.compat.v1.global_variables_initializer()\n",
    "sess = tf.compat.v1.Session()\n",
    "sess.run(init)\n",
    "print(sess.run(loss,{x:[1,2,3,4,],y:[0,-1,-2,-3]}))"
   ]
  },
  {
   "cell_type": "code",
   "execution_count": 71,
   "metadata": {},
   "outputs": [
    {
     "name": "stdout",
     "output_type": "stream",
     "text": [
      "[array([-0.8711347], dtype=float32), array([0.62112033], dtype=float32)]\n"
     ]
    }
   ],
   "source": [
    "import  matplotlib.pyplot as plt\n",
    "w = tf.Variable([.5], tf.float32)\n",
    "b = tf.Variable([.1], tf.float32)\n",
    "x = tf.compat.v1.placeholder(tf.float32)\n",
    "y = tf.compat.v1.placeholder(tf.float32)\n",
    "\n",
    "# formula for linear model\n",
    "linear_model = w*x+b\n",
    "\n",
    "sq_de = tf.square(linear_model-y)\n",
    "loss = tf.reduce_sum(sq_de)\n",
    "optimizer = tf.compat.v1.train.GradientDescentOptimizer(0.01)\n",
    "train = optimizer.minimize(loss)\n",
    "\n",
    "init = tf.compat.v1.global_variables_initializer()\n",
    "sess = tf.compat.v1.Session()\n",
    "sess.run(init)\n",
    "for i in range(100):\n",
    "    sess.run(train,{x:[1,2,3,4,],y:[0,-1,-2,-3]})\n",
    "print(sess.run([w,b]))\n"
   ]
  },
  {
   "cell_type": "code",
   "execution_count": null,
   "metadata": {},
   "outputs": [],
   "source": []
  },
  {
   "cell_type": "code",
   "execution_count": null,
   "metadata": {},
   "outputs": [],
   "source": []
  }
 ],
 "metadata": {
  "kernelspec": {
   "display_name": "Python 3",
   "language": "python",
   "name": "python3"
  },
  "language_info": {
   "codemirror_mode": {
    "name": "ipython",
    "version": 3
   },
   "file_extension": ".py",
   "mimetype": "text/x-python",
   "name": "python",
   "nbconvert_exporter": "python",
   "pygments_lexer": "ipython3",
   "version": "3.8.3"
  }
 },
 "nbformat": 4,
 "nbformat_minor": 4
}
