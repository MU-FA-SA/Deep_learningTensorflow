{
 "cells": [
  {
   "cell_type": "code",
   "execution_count": 1,
   "metadata": {},
   "outputs": [
    {
     "name": "stderr",
     "output_type": "stream",
     "text": [
      "C:\\Users\\SONY\\anaconda3\\lib\\site-packages\\gensim\\similarities\\__init__.py:15: UserWarning: The gensim.similarities.levenshtein submodule is disabled, because the optional Levenshtein package <https://pypi.org/project/python-Levenshtein/> is unavailable. Install Levenhstein (e.g. `pip install python-Levenshtein`) to suppress this warning.\n",
      "  warnings.warn(msg)\n"
     ]
    }
   ],
   "source": [
    "import pandas as pd\n",
    "import gensim"
   ]
  },
  {
   "cell_type": "code",
   "execution_count": 2,
   "metadata": {},
   "outputs": [],
   "source": [
    "df  = pd.read_json(r'C:\\Users\\SONY\\Desktop\\Machine Learning\\Tensorflow\\datasets\\Sports.json',lines = True)"
   ]
  },
  {
   "cell_type": "code",
   "execution_count": 3,
   "metadata": {},
   "outputs": [
    {
     "data": {
      "text/html": [
       "<div>\n",
       "<style scoped>\n",
       "    .dataframe tbody tr th:only-of-type {\n",
       "        vertical-align: middle;\n",
       "    }\n",
       "\n",
       "    .dataframe tbody tr th {\n",
       "        vertical-align: top;\n",
       "    }\n",
       "\n",
       "    .dataframe thead th {\n",
       "        text-align: right;\n",
       "    }\n",
       "</style>\n",
       "<table border=\"1\" class=\"dataframe\">\n",
       "  <thead>\n",
       "    <tr style=\"text-align: right;\">\n",
       "      <th></th>\n",
       "      <th>reviewerID</th>\n",
       "      <th>asin</th>\n",
       "      <th>reviewerName</th>\n",
       "      <th>helpful</th>\n",
       "      <th>reviewText</th>\n",
       "      <th>overall</th>\n",
       "      <th>summary</th>\n",
       "      <th>unixReviewTime</th>\n",
       "      <th>reviewTime</th>\n",
       "    </tr>\n",
       "  </thead>\n",
       "  <tbody>\n",
       "    <tr>\n",
       "      <th>243031</th>\n",
       "      <td>A1SJ421M56SBFY</td>\n",
       "      <td>B005KDBHWM</td>\n",
       "      <td>the &amp;quot;hiker&amp;quot;</td>\n",
       "      <td>[0, 0]</td>\n",
       "      <td>This backpack was sent fast and I got it much ...</td>\n",
       "      <td>5</td>\n",
       "      <td>Mil-Tec Military Army Patrol....Bagpack 50 L B...</td>\n",
       "      <td>1371600000</td>\n",
       "      <td>06 19, 2013</td>\n",
       "    </tr>\n",
       "    <tr>\n",
       "      <th>111082</th>\n",
       "      <td>A2BECCJQHNGRQC</td>\n",
       "      <td>B001BS5NXE</td>\n",
       "      <td>Colin Bailey \"Ordained Dudeist Priest\"</td>\n",
       "      <td>[2, 2]</td>\n",
       "      <td>I love this gun. It almost perfectly represent...</td>\n",
       "      <td>4</td>\n",
       "      <td>(4.5/5) Great for Alot of Things, Just Not Per...</td>\n",
       "      <td>1370217600</td>\n",
       "      <td>06 3, 2013</td>\n",
       "    </tr>\n",
       "    <tr>\n",
       "      <th>17767</th>\n",
       "      <td>A31OIXDTDVNVS8</td>\n",
       "      <td>B00081AI3A</td>\n",
       "      <td>April Reynolds \"lcsdr60\"</td>\n",
       "      <td>[3, 3]</td>\n",
       "      <td>comes in cheap mail box with 2 seperate pieces...</td>\n",
       "      <td>5</td>\n",
       "      <td>cheap reasonable gift for guys</td>\n",
       "      <td>1385596800</td>\n",
       "      <td>11 28, 2013</td>\n",
       "    </tr>\n",
       "    <tr>\n",
       "      <th>91088</th>\n",
       "      <td>A2UXRIBP5ZPEM4</td>\n",
       "      <td>B00152MF1O</td>\n",
       "      <td>rocky</td>\n",
       "      <td>[0, 0]</td>\n",
       "      <td>carry it in my pack that I take on the subway ...</td>\n",
       "      <td>5</td>\n",
       "      <td>like it</td>\n",
       "      <td>1401667200</td>\n",
       "      <td>06 2, 2014</td>\n",
       "    </tr>\n",
       "    <tr>\n",
       "      <th>30075</th>\n",
       "      <td>AWXFYN9WGGOQ</td>\n",
       "      <td>B000BT7HWO</td>\n",
       "      <td>Hadad</td>\n",
       "      <td>[3, 3]</td>\n",
       "      <td>Good product, but way noisy. The noise is just...</td>\n",
       "      <td>5</td>\n",
       "      <td>Well Built and Good Quality Product</td>\n",
       "      <td>1320192000</td>\n",
       "      <td>11 2, 2011</td>\n",
       "    </tr>\n",
       "  </tbody>\n",
       "</table>\n",
       "</div>"
      ],
      "text/plain": [
       "            reviewerID        asin                            reviewerName  \\\n",
       "243031  A1SJ421M56SBFY  B005KDBHWM                   the &quot;hiker&quot;   \n",
       "111082  A2BECCJQHNGRQC  B001BS5NXE  Colin Bailey \"Ordained Dudeist Priest\"   \n",
       "17767   A31OIXDTDVNVS8  B00081AI3A                April Reynolds \"lcsdr60\"   \n",
       "91088   A2UXRIBP5ZPEM4  B00152MF1O                                   rocky   \n",
       "30075     AWXFYN9WGGOQ  B000BT7HWO                                   Hadad   \n",
       "\n",
       "       helpful                                         reviewText  overall  \\\n",
       "243031  [0, 0]  This backpack was sent fast and I got it much ...        5   \n",
       "111082  [2, 2]  I love this gun. It almost perfectly represent...        4   \n",
       "17767   [3, 3]  comes in cheap mail box with 2 seperate pieces...        5   \n",
       "91088   [0, 0]  carry it in my pack that I take on the subway ...        5   \n",
       "30075   [3, 3]  Good product, but way noisy. The noise is just...        5   \n",
       "\n",
       "                                                  summary  unixReviewTime  \\\n",
       "243031  Mil-Tec Military Army Patrol....Bagpack 50 L B...      1371600000   \n",
       "111082  (4.5/5) Great for Alot of Things, Just Not Per...      1370217600   \n",
       "17767                      cheap reasonable gift for guys      1385596800   \n",
       "91088                                             like it      1401667200   \n",
       "30075                 Well Built and Good Quality Product      1320192000   \n",
       "\n",
       "         reviewTime  \n",
       "243031  06 19, 2013  \n",
       "111082   06 3, 2013  \n",
       "17767   11 28, 2013  \n",
       "91088    06 2, 2014  \n",
       "30075    11 2, 2011  "
      ]
     },
     "execution_count": 3,
     "metadata": {},
     "output_type": "execute_result"
    }
   ],
   "source": [
    "df.sample(5)"
   ]
  },
  {
   "cell_type": "code",
   "execution_count": 4,
   "metadata": {},
   "outputs": [
    {
     "data": {
      "text/plain": [
       "'This came in on time and I am veru happy with it, I haved used it already and it makes taking out the pins in my glock 32 very easy'"
      ]
     },
     "execution_count": 4,
     "metadata": {},
     "output_type": "execute_result"
    }
   ],
   "source": [
    "df[\"reviewText\"][0]"
   ]
  },
  {
   "cell_type": "code",
   "execution_count": 6,
   "metadata": {},
   "outputs": [],
   "source": [
    "reviewt= df.reviewText.map(gensim.utils.simple_preprocess)"
   ]
  },
  {
   "cell_type": "code",
   "execution_count": 7,
   "metadata": {},
   "outputs": [],
   "source": [
    "model =gensim.models.Word2Vec(\n",
    "    window = 10,\n",
    "    min_count=2,\n",
    "    workers=4\n",
    "\n",
    ")"
   ]
  },
  {
   "cell_type": "code",
   "execution_count": 9,
   "metadata": {},
   "outputs": [],
   "source": [
    "model.build_vocab(reviewt,progress_per=10)"
   ]
  },
  {
   "cell_type": "code",
   "execution_count": 10,
   "metadata": {},
   "outputs": [
    {
     "data": {
      "text/plain": [
       "5"
      ]
     },
     "execution_count": 10,
     "metadata": {},
     "output_type": "execute_result"
    }
   ],
   "source": [
    "model.epochs"
   ]
  },
  {
   "cell_type": "code",
   "execution_count": 11,
   "metadata": {},
   "outputs": [
    {
     "data": {
      "text/plain": [
       "(91336278, 121496535)"
      ]
     },
     "execution_count": 11,
     "metadata": {},
     "output_type": "execute_result"
    }
   ],
   "source": [
    "model.train(reviewt,total_examples=model.corpus_count\n",
    "            ,epochs=model.epochs)"
   ]
  },
  {
   "cell_type": "code",
   "execution_count": null,
   "metadata": {},
   "outputs": [],
   "source": [
    "model.w"
   ]
  }
 ],
 "metadata": {
  "kernelspec": {
   "display_name": "Python 3",
   "language": "python",
   "name": "python3"
  },
  "language_info": {
   "codemirror_mode": {
    "name": "ipython",
    "version": 3
   },
   "file_extension": ".py",
   "mimetype": "text/x-python",
   "name": "python",
   "nbconvert_exporter": "python",
   "pygments_lexer": "ipython3",
   "version": "3.8.3"
  }
 },
 "nbformat": 4,
 "nbformat_minor": 4
}
