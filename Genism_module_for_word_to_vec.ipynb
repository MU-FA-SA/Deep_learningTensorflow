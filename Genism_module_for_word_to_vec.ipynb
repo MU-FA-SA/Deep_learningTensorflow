{
 "cells": [
  {
   "cell_type": "code",
   "execution_count": 11,
   "metadata": {},
   "outputs": [],
   "source": [
    "import pandas as pd\n",
    "import gensim\n",
    "import numpy as np"
   ]
  },
  {
   "cell_type": "code",
   "execution_count": 7,
   "metadata": {},
   "outputs": [],
   "source": [
    "df = pd.read_json(r'C:\\Users\\SONY\\Desktop\\Machine Learning\\Tensorflow\\datasets\\Cell_Phone.json',lines = True)"
   ]
  },
  {
   "cell_type": "code",
   "execution_count": 8,
   "metadata": {},
   "outputs": [
    {
     "data": {
      "text/html": [
       "<div>\n",
       "<style scoped>\n",
       "    .dataframe tbody tr th:only-of-type {\n",
       "        vertical-align: middle;\n",
       "    }\n",
       "\n",
       "    .dataframe tbody tr th {\n",
       "        vertical-align: top;\n",
       "    }\n",
       "\n",
       "    .dataframe thead th {\n",
       "        text-align: right;\n",
       "    }\n",
       "</style>\n",
       "<table border=\"1\" class=\"dataframe\">\n",
       "  <thead>\n",
       "    <tr style=\"text-align: right;\">\n",
       "      <th></th>\n",
       "      <th>reviewerID</th>\n",
       "      <th>asin</th>\n",
       "      <th>reviewerName</th>\n",
       "      <th>helpful</th>\n",
       "      <th>reviewText</th>\n",
       "      <th>overall</th>\n",
       "      <th>summary</th>\n",
       "      <th>unixReviewTime</th>\n",
       "      <th>reviewTime</th>\n",
       "    </tr>\n",
       "  </thead>\n",
       "  <tbody>\n",
       "    <tr>\n",
       "      <th>53272</th>\n",
       "      <td>A1TUFJ8FQ72YMW</td>\n",
       "      <td>B005GSRJIW</td>\n",
       "      <td>Mistie Rightsell</td>\n",
       "      <td>[0, 0]</td>\n",
       "      <td>When we bought our son his phone he didn't rec...</td>\n",
       "      <td>4</td>\n",
       "      <td>BEST INVESTMENTS</td>\n",
       "      <td>1372204800</td>\n",
       "      <td>06 26, 2013</td>\n",
       "    </tr>\n",
       "    <tr>\n",
       "      <th>48926</th>\n",
       "      <td>A107K10JTO8NSH</td>\n",
       "      <td>B0059DLLJC</td>\n",
       "      <td>jonnii</td>\n",
       "      <td>[0, 0]</td>\n",
       "      <td>It looks good in this ad picture. When I bough...</td>\n",
       "      <td>3</td>\n",
       "      <td>It's Average</td>\n",
       "      <td>1397174400</td>\n",
       "      <td>04 11, 2014</td>\n",
       "    </tr>\n",
       "    <tr>\n",
       "      <th>155452</th>\n",
       "      <td>A1PHPUCMMJUQFA</td>\n",
       "      <td>B00BY6RH7I</td>\n",
       "      <td>Carlos</td>\n",
       "      <td>[0, 0]</td>\n",
       "      <td>This is good because it comes with a bunch and...</td>\n",
       "      <td>4</td>\n",
       "      <td>Good but don't last very long</td>\n",
       "      <td>1402617600</td>\n",
       "      <td>06 13, 2014</td>\n",
       "    </tr>\n",
       "    <tr>\n",
       "      <th>140809</th>\n",
       "      <td>A29EAOP4EI5DAQ</td>\n",
       "      <td>B00AG6NSNO</td>\n",
       "      <td>PharoahzenRob</td>\n",
       "      <td>[0, 0]</td>\n",
       "      <td>I bought this to bring my old shelf system bac...</td>\n",
       "      <td>4</td>\n",
       "      <td>My old system lives!</td>\n",
       "      <td>1399248000</td>\n",
       "      <td>05 5, 2014</td>\n",
       "    </tr>\n",
       "    <tr>\n",
       "      <th>131614</th>\n",
       "      <td>A17XX8721LEILW</td>\n",
       "      <td>B009SFX18Q</td>\n",
       "      <td>kurtjski</td>\n",
       "      <td>[1, 1]</td>\n",
       "      <td>I have ordered dozens of these to use and as g...</td>\n",
       "      <td>5</td>\n",
       "      <td>Right on top with New Trent as the best!</td>\n",
       "      <td>1401062400</td>\n",
       "      <td>05 26, 2014</td>\n",
       "    </tr>\n",
       "  </tbody>\n",
       "</table>\n",
       "</div>"
      ],
      "text/plain": [
       "            reviewerID        asin      reviewerName helpful  \\\n",
       "53272   A1TUFJ8FQ72YMW  B005GSRJIW  Mistie Rightsell  [0, 0]   \n",
       "48926   A107K10JTO8NSH  B0059DLLJC            jonnii  [0, 0]   \n",
       "155452  A1PHPUCMMJUQFA  B00BY6RH7I            Carlos  [0, 0]   \n",
       "140809  A29EAOP4EI5DAQ  B00AG6NSNO     PharoahzenRob  [0, 0]   \n",
       "131614  A17XX8721LEILW  B009SFX18Q          kurtjski  [1, 1]   \n",
       "\n",
       "                                               reviewText  overall  \\\n",
       "53272   When we bought our son his phone he didn't rec...        4   \n",
       "48926   It looks good in this ad picture. When I bough...        3   \n",
       "155452  This is good because it comes with a bunch and...        4   \n",
       "140809  I bought this to bring my old shelf system bac...        4   \n",
       "131614  I have ordered dozens of these to use and as g...        5   \n",
       "\n",
       "                                         summary  unixReviewTime   reviewTime  \n",
       "53272                           BEST INVESTMENTS      1372204800  06 26, 2013  \n",
       "48926                               It's Average      1397174400  04 11, 2014  \n",
       "155452             Good but don't last very long      1402617600  06 13, 2014  \n",
       "140809                      My old system lives!      1399248000   05 5, 2014  \n",
       "131614  Right on top with New Trent as the best!      1401062400  05 26, 2014  "
      ]
     },
     "execution_count": 8,
     "metadata": {},
     "output_type": "execute_result"
    }
   ],
   "source": [
    "df.sample(5)"
   ]
  },
  {
   "cell_type": "code",
   "execution_count": 12,
   "metadata": {},
   "outputs": [
    {
     "data": {
      "text/plain": [
       "\"They look good and stick good! I just don't like the rounded shape because I was always bumping it and Siri kept popping up and it was irritating. I just won't buy a product like this again\""
      ]
     },
     "execution_count": 12,
     "metadata": {},
     "output_type": "execute_result"
    }
   ],
   "source": [
    "df.reviewText[0]"
   ]
  },
  {
   "cell_type": "code",
   "execution_count": 18,
   "metadata": {},
   "outputs": [],
   "source": [
    "review_text = df['reviewText'].map(gensim.utils.simple_preprocess)"
   ]
  },
  {
   "cell_type": "code",
   "execution_count": 20,
   "metadata": {},
   "outputs": [],
   "source": [
    "model= gensim.models.Word2Vec(\n",
    "    window=10,\n",
    "    min_count=2,\n",
    "    workers=4\n",
    "\n",
    ")"
   ]
  },
  {
   "cell_type": "code",
   "execution_count": 21,
   "metadata": {},
   "outputs": [],
   "source": [
    "model.build_vocab(review_text,progress_per=10)"
   ]
  },
  {
   "cell_type": "code",
   "execution_count": 22,
   "metadata": {},
   "outputs": [
    {
     "data": {
      "text/plain": [
       "5"
      ]
     },
     "execution_count": 22,
     "metadata": {},
     "output_type": "execute_result"
    }
   ],
   "source": [
    "model.epochs"
   ]
  },
  {
   "cell_type": "code",
   "execution_count": 25,
   "metadata": {},
   "outputs": [
    {
     "data": {
      "text/plain": [
       "(61506669, 83868975)"
      ]
     },
     "execution_count": 25,
     "metadata": {},
     "output_type": "execute_result"
    }
   ],
   "source": [
    "model.train(review_text,total_examples=model.corpus_count\n",
    "            ,epochs=model.epochs)"
   ]
  },
  {
   "cell_type": "code",
   "execution_count": 26,
   "metadata": {},
   "outputs": [
    {
     "data": {
      "text/plain": [
       "[('shabby', 0.6770681738853455),\n",
       " ('terrible', 0.6702381372451782),\n",
       " ('horrible', 0.6013896465301514),\n",
       " ('good', 0.5847010016441345),\n",
       " ('awful', 0.565157413482666),\n",
       " ('okay', 0.5380175113677979),\n",
       " ('funny', 0.5325610041618347),\n",
       " ('sad', 0.5320767760276794),\n",
       " ('cheap', 0.5205536484718323),\n",
       " ('crappy', 0.5099891424179077)]"
      ]
     },
     "execution_count": 26,
     "metadata": {},
     "output_type": "execute_result"
    }
   ],
   "source": [
    "model.wv.most_similar(\"bad\")"
   ]
  },
  {
   "cell_type": "code",
   "execution_count": 27,
   "metadata": {},
   "outputs": [
    {
     "data": {
      "text/plain": [
       "0.5172133"
      ]
     },
     "execution_count": 27,
     "metadata": {},
     "output_type": "execute_result"
    }
   ],
   "source": [
    "model.wv.similarity(w1=\"cheap\",w2=\"inexpensive\")"
   ]
  },
  {
   "cell_type": "code",
   "execution_count": null,
   "metadata": {},
   "outputs": [],
   "source": []
  }
 ],
 "metadata": {
  "kernelspec": {
   "display_name": "Python 3",
   "language": "python",
   "name": "python3"
  },
  "language_info": {
   "codemirror_mode": {
    "name": "ipython",
    "version": 3
   },
   "file_extension": ".py",
   "mimetype": "text/x-python",
   "name": "python",
   "nbconvert_exporter": "python",
   "pygments_lexer": "ipython3",
   "version": "3.8.3"
  }
 },
 "nbformat": 4,
 "nbformat_minor": 4
}
