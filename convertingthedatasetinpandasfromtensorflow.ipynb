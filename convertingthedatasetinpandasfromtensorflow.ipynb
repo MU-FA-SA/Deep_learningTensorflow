{
 "cells": [
  {
   "cell_type": "code",
   "execution_count": 88,
   "metadata": {},
   "outputs": [],
   "source": [
    "import matplotlib.pyplot as plt\n",
    "import tensorflow as tf\n",
    "import numpy as np\n",
    "import pandas as pd\n",
    "from sklearn.preprocessing  import LabelEncoder\n",
    "from sklearn.utils import shuffle\n",
    "from sklearn import datasets"
   ]
  },
  {
   "cell_type": "code",
   "execution_count": 89,
   "metadata": {},
   "outputs": [],
   "source": [
    "dib = datasets.load_iris()\n",
    "\n",
    "def read_datasets():\n",
    "#     converting the data into dataframe using pandas\n",
    "    df = pd.DataFrame(dib.data,columns = dib.feature_names)\n",
    "    x = df.columns[0:4].values\n",
    "    y = df['Target'] = dib.target\n",
    "# encoding the data into single it has more than one class\n",
    "    encoder =  LabelEncoder()\n",
    "    encoder.fit(x,y)\n",
    "    y = encoder.transfrom(y)\n",
    "    Y  = one_hot_encode(y)\n",
    "    return (x,Y,y)\n"
   ]
  },
  {
   "cell_type": "code",
   "execution_count": 94,
   "metadata": {},
   "outputs": [
    {
     "ename": "SyntaxError",
     "evalue": "invalid syntax (<ipython-input-94-4c4622014b86>, line 3)",
     "output_type": "error",
     "traceback": [
      "\u001b[1;36m  File \u001b[1;32m\"<ipython-input-94-4c4622014b86>\"\u001b[1;36m, line \u001b[1;32m3\u001b[0m\n\u001b[1;33m    sig =  np.std(feature,axis=0)\u001b[0m\n\u001b[1;37m    ^\u001b[0m\n\u001b[1;31mSyntaxError\u001b[0m\u001b[1;31m:\u001b[0m invalid syntax\n"
     ]
    }
   ],
   "source": [
    "# def feature_normalize(feature):\n",
    "#     mu = np.mean(feature,axis=0\n",
    "#     sig =  np.std(feature,axis=0)\n",
    "#     normalize_feature = feature-mu/sig\n",
    "#     return(normalize_feature)"
   ]
  },
  {
   "cell_type": "code",
   "execution_count": null,
   "metadata": {},
   "outputs": [],
   "source": []
  }
 ],
 "metadata": {
  "kernelspec": {
   "display_name": "Python 3",
   "language": "python",
   "name": "python3"
  },
  "language_info": {
   "codemirror_mode": {
    "name": "ipython",
    "version": 3
   },
   "file_extension": ".py",
   "mimetype": "text/x-python",
   "name": "python",
   "nbconvert_exporter": "python",
   "pygments_lexer": "ipython3",
   "version": "3.8.3"
  }
 },
 "nbformat": 4,
 "nbformat_minor": 4
}
